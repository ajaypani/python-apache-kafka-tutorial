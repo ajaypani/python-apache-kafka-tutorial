{
 "cells": [
  {
   "cell_type": "markdown",
   "metadata": {},
   "source": [
    "# Consume messages from an Aiven for Apache Kafka®️ partitioned topic\n",
    "\n",
    "In the [previous notebook](4-consume-partition-0.ipynb), we explored consuming topics in separate partitions.\n",
    "\n",
    "![Consume messages from an Apache Kafka Topic](../img/5%20-%20multiple%20kafka%20consumer%20groups%20python.png)\n",
    "\n",
    "You may have noticed in our `conf` that we create a `group.id` value. Up until now we've only had one group but we can have multiple groups that consume our messages differently.\n",
    "\n",
    "Our stores are doing well and our billing department wants to be able to track our **Overall Orders**. We can do this with no disruption to our Aiven for Apache Kafka®️ configuration.\n",
    "\n",
    "In this notebook we'll create two groups. One will be for our stores to manage their orders only, while the second one will consume messages from both partitions."
   ]
  },
  {
   "cell_type": "code",
   "execution_count": 1,
   "metadata": {},
   "outputs": [],
   "source": [
    "\n",
    "import os\n",
    "import json\n",
    "\n",
    "from confluent_kafka import (\n",
    "    DeserializingConsumer,\n",
    "    KafkaException,\n",
    "    TopicPartition,\n",
    ")\n",
    "\n",
    "from dotenv import load_dotenv\n",
    "\n",
    "# Load environment variables\n",
    "load_dotenv()\n",
    "\n",
    "KAFKA_SERVICE_URI = os.getenv(\"KAFKA_SERVICE_URI\")\n",
    "topic = 'pizzasPartitioned'\n",
    "\n",
    "def json_serializer(msg, s_obj):\n",
    "    return json.loads(msg.decode('ascii'))\n",
    "\n",
    "base_conf = {\n",
    "    'bootstrap.servers': KAFKA_SERVICE_URI,\n",
    "    'client.id': 'myclient',\n",
    "    'group.id': 'base',\n",
    "    'security.protocol': 'SSL',\n",
    "    'ssl.ca.location': '../sslcerts/ca.pem',\n",
    "    'ssl.certificate.location': '../sslcerts/service.cert',\n",
    "    'ssl.key.location': '../sslcerts/service.key', \n",
    "    'value.deserializer': json_serializer,\n",
    "    'key.deserializer': json_serializer\n",
    "    }\n",
    "\n",
    "orders_conf = {**base_conf, 'group.id': 'orders'}\n",
    "\n",
    "# Create a and orders consumer for each store\n",
    "orders_consumer_northern_store = DeserializingConsumer(orders_conf)\n",
    "orders_consumer_northern_store.assign([TopicPartition(topic, 0)])\n",
    "\n",
    "orders_consumer_southern_store = DeserializingConsumer(orders_conf)\n",
    "orders_consumer_southern_store.assign([TopicPartition(topic, 1)])\n",
    "\n",
    "# Create a centralized billing consumer\n",
    "billing_conf = {**base_conf, 'group.id': 'billing'}\n",
    "billing_consumer = DeserializingConsumer(billing_conf)\n",
    "billing_consumer.assign([TopicPartition(topic, 0), TopicPartition(topic, 1)])\n",
    "\n"
   ]
  },
  {
   "cell_type": "markdown",
   "metadata": {},
   "source": [
    "## Consume messages to the `pizzasPartitioned` topic\n",
    "\n",
    "To show how that the partitions have access to different one or more groups we'll consume our groups using this custom function `display_orders`.\n",
    "\n",
    "This will tell you the Name of the partition and the message that we're used to.\n",
    "\n",
    "We've color-coded the consumers so you'll see the _Northern_Store_ Consumer in Red, the _Southern Store_ in green, and the _Billing_ in blue."
   ]
  },
  {
   "cell_type": "code",
   "execution_count": 4,
   "metadata": {},
   "outputs": [
    {
     "data": {
      "text/html": [
       "<pre style=\"white-space:pre;overflow-x:auto;line-height:normal;font-family:Menlo,'DejaVu Sans Mono',consolas,'Courier New',monospace\">Run the last block from `<span style=\"color: #008080; text-decoration-color: #008080; font-weight: bold\">3</span>-produce-partitioned-topic.ipynb`.\n",
       "</pre>\n"
      ],
      "text/plain": [
       "Run the last block from `\u001b[1;36m3\u001b[0m-produce-partitioned-topic.ipynb`.\n"
      ]
     },
     "metadata": {},
     "output_type": "display_data"
    },
    {
     "data": {
      "text/html": [
       "<pre style=\"white-space:pre;overflow-x:auto;line-height:normal;font-family:Menlo,'DejaVu Sans Mono',consolas,'Courier New',monospace\"><span style=\"color: #800000; text-decoration-color: #800000; font-weight: bold\">Checking Partition Northern Store </span>\n",
       "<span style=\"color: #800000; text-decoration-color: #800000; font-weight: bold\">----------</span>\n",
       "</pre>\n"
      ],
      "text/plain": [
       "\u001b[1;31mChecking Partition Northern Store \u001b[0m\n",
       "\u001b[1;31m----------\u001b[0m\n"
      ]
     },
     "metadata": {},
     "output_type": "display_data"
    },
    {
     "data": {
      "text/html": [
       "<pre style=\"white-space:pre;overflow-x:auto;line-height:normal;font-family:Menlo,'DejaVu Sans Mono',consolas,'Courier New',monospace\"><span style=\"color: #800000; text-decoration-color: #800000; font-weight: bold\">0:10: {</span><span style=\"color: #800000; text-decoration-color: #800000; font-weight: bold\">'id'</span><span style=\"color: #800000; text-decoration-color: #800000; font-weight: bold\">: </span><span style=\"color: #800000; text-decoration-color: #800000; font-weight: bold\">1</span><span style=\"color: #800000; text-decoration-color: #800000; font-weight: bold\">}:{</span><span style=\"color: #800000; text-decoration-color: #800000; font-weight: bold\">'id'</span><span style=\"color: #800000; text-decoration-color: #800000; font-weight: bold\">: </span><span style=\"color: #800000; text-decoration-color: #800000; font-weight: bold\">1</span><span style=\"color: #800000; text-decoration-color: #800000; font-weight: bold\">, </span><span style=\"color: #800000; text-decoration-color: #800000; font-weight: bold\">'name'</span><span style=\"color: #800000; text-decoration-color: #800000; font-weight: bold\">: </span><span style=\"color: #800000; text-decoration-color: #800000; font-weight: bold\">'👨 Ajay'</span><span style=\"color: #800000; text-decoration-color: #800000; font-weight: bold\">, </span><span style=\"color: #800000; text-decoration-color: #800000; font-weight: bold\">'pizza'</span><span style=\"color: #800000; text-decoration-color: #800000; font-weight: bold\">: </span><span style=\"color: #800000; text-decoration-color: #800000; font-weight: bold\">'Margherita 🍕'</span><span style=\"color: #800000; text-decoration-color: #800000; font-weight: bold\">}</span>\n",
       "\n",
       "\n",
       "</pre>\n"
      ],
      "text/plain": [
       "\u001b[1;31m0:10\u001b[0m\u001b[1;31m: \u001b[0m\u001b[1;31m{\u001b[0m\u001b[1;31m'id'\u001b[0m\u001b[1;31m: \u001b[0m\u001b[1;31m1\u001b[0m\u001b[1;31m}\u001b[0m\u001b[1;31m:\u001b[0m\u001b[1;31m{\u001b[0m\u001b[1;31m'id'\u001b[0m\u001b[1;31m: \u001b[0m\u001b[1;31m1\u001b[0m\u001b[1;31m, \u001b[0m\u001b[1;31m'name'\u001b[0m\u001b[1;31m: \u001b[0m\u001b[1;31m'👨 Ajay'\u001b[0m\u001b[1;31m, \u001b[0m\u001b[1;31m'pizza'\u001b[0m\u001b[1;31m: \u001b[0m\u001b[1;31m'Margherita 🍕'\u001b[0m\u001b[1;31m}\u001b[0m\n",
       "\n",
       "\n"
      ]
     },
     "metadata": {},
     "output_type": "display_data"
    },
    {
     "data": {
      "text/html": [
       "<pre style=\"white-space:pre;overflow-x:auto;line-height:normal;font-family:Menlo,'DejaVu Sans Mono',consolas,'Courier New',monospace\"><span style=\"color: #008000; text-decoration-color: #008000; font-weight: bold\">Checking Partition Southern Store </span>\n",
       "<span style=\"color: #008000; text-decoration-color: #008000; font-weight: bold\">----------</span>\n",
       "</pre>\n"
      ],
      "text/plain": [
       "\u001b[1;32mChecking Partition Southern Store \u001b[0m\n",
       "\u001b[1;32m----------\u001b[0m\n"
      ]
     },
     "metadata": {},
     "output_type": "display_data"
    },
    {
     "data": {
      "text/html": [
       "<pre style=\"white-space:pre;overflow-x:auto;line-height:normal;font-family:Menlo,'DejaVu Sans Mono',consolas,'Courier New',monospace\"><span style=\"color: #008000; text-decoration-color: #008000; font-weight: bold\">1:9: {</span><span style=\"color: #008000; text-decoration-color: #008000; font-weight: bold\">'id'</span><span style=\"color: #008000; text-decoration-color: #008000; font-weight: bold\">: </span><span style=\"color: #008000; text-decoration-color: #008000; font-weight: bold\">2</span><span style=\"color: #008000; text-decoration-color: #008000; font-weight: bold\">}:{</span><span style=\"color: #008000; text-decoration-color: #008000; font-weight: bold\">'id'</span><span style=\"color: #008000; text-decoration-color: #008000; font-weight: bold\">: </span><span style=\"color: #008000; text-decoration-color: #008000; font-weight: bold\">2</span><span style=\"color: #008000; text-decoration-color: #008000; font-weight: bold\">, </span><span style=\"color: #008000; text-decoration-color: #008000; font-weight: bold\">'name'</span><span style=\"color: #008000; text-decoration-color: #008000; font-weight: bold\">: </span><span style=\"color: #008000; text-decoration-color: #008000; font-weight: bold\">'👩 Adele'</span><span style=\"color: #008000; text-decoration-color: #008000; font-weight: bold\">, </span><span style=\"color: #008000; text-decoration-color: #008000; font-weight: bold\">'pizza'</span><span style=\"color: #008000; text-decoration-color: #008000; font-weight: bold\">: </span><span style=\"color: #008000; text-decoration-color: #008000; font-weight: bold\">'Hawaii 🍕+🍍+🥓'</span><span style=\"color: #008000; text-decoration-color: #008000; font-weight: bold\">, </span><span style=\"color: #008000; text-decoration-color: #008000; font-weight: bold\">'qty'</span><span style=\"color: #008000; text-decoration-color: #008000; font-weight: bold\">: </span><span style=\"color: #008000; text-decoration-color: #008000; font-weight: bold\">1</span><span style=\"color: #008000; text-decoration-color: #008000; font-weight: bold\">}</span>\n",
       "\n",
       "\n",
       "</pre>\n"
      ],
      "text/plain": [
       "\u001b[1;32m1:9\u001b[0m\u001b[1;32m: \u001b[0m\u001b[1;32m{\u001b[0m\u001b[1;32m'id'\u001b[0m\u001b[1;32m: \u001b[0m\u001b[1;32m2\u001b[0m\u001b[1;32m}\u001b[0m\u001b[1;32m:\u001b[0m\u001b[1;32m{\u001b[0m\u001b[1;32m'id'\u001b[0m\u001b[1;32m: \u001b[0m\u001b[1;32m2\u001b[0m\u001b[1;32m, \u001b[0m\u001b[1;32m'name'\u001b[0m\u001b[1;32m: \u001b[0m\u001b[1;32m'👩 Adele'\u001b[0m\u001b[1;32m, \u001b[0m\u001b[1;32m'pizza'\u001b[0m\u001b[1;32m: \u001b[0m\u001b[1;32m'Hawaii 🍕+🍍+🥓'\u001b[0m\u001b[1;32m, \u001b[0m\u001b[1;32m'qty'\u001b[0m\u001b[1;32m: \u001b[0m\u001b[1;32m1\u001b[0m\u001b[1;32m}\u001b[0m\n",
       "\n",
       "\n"
      ]
     },
     "metadata": {},
     "output_type": "display_data"
    },
    {
     "data": {
      "text/html": [
       "<pre style=\"white-space:pre;overflow-x:auto;line-height:normal;font-family:Menlo,'DejaVu Sans Mono',consolas,'Courier New',monospace\"><span style=\"color: #c0c0c0; text-decoration-color: #c0c0c0\">Checking Partition Billing </span>\n",
       "<span style=\"color: #c0c0c0; text-decoration-color: #c0c0c0\">----------</span>\n",
       "</pre>\n"
      ],
      "text/plain": [
       "\u001b[37mChecking Partition Billing \u001b[0m\n",
       "\u001b[37m----------\u001b[0m\n"
      ]
     },
     "metadata": {},
     "output_type": "display_data"
    },
    {
     "data": {
      "text/html": [
       "<pre style=\"white-space:pre;overflow-x:auto;line-height:normal;font-family:Menlo,'DejaVu Sans Mono',consolas,'Courier New',monospace\"><span style=\"color: #c0c0c0; text-decoration-color: #c0c0c0; font-weight: bold\">1:9</span><span style=\"color: #c0c0c0; text-decoration-color: #c0c0c0\">: </span><span style=\"color: #c0c0c0; text-decoration-color: #c0c0c0; font-weight: bold\">{</span><span style=\"color: #c0c0c0; text-decoration-color: #c0c0c0\">'id'</span><span style=\"color: #c0c0c0; text-decoration-color: #c0c0c0\">: </span><span style=\"color: #c0c0c0; text-decoration-color: #c0c0c0; font-weight: bold\">2</span><span style=\"color: #c0c0c0; text-decoration-color: #c0c0c0; font-weight: bold\">}</span><span style=\"color: #c0c0c0; text-decoration-color: #c0c0c0\">:</span><span style=\"color: #c0c0c0; text-decoration-color: #c0c0c0; font-weight: bold\">{</span><span style=\"color: #c0c0c0; text-decoration-color: #c0c0c0\">'id'</span><span style=\"color: #c0c0c0; text-decoration-color: #c0c0c0\">: </span><span style=\"color: #c0c0c0; text-decoration-color: #c0c0c0; font-weight: bold\">2</span><span style=\"color: #c0c0c0; text-decoration-color: #c0c0c0\">, </span><span style=\"color: #c0c0c0; text-decoration-color: #c0c0c0\">'name'</span><span style=\"color: #c0c0c0; text-decoration-color: #c0c0c0\">: </span><span style=\"color: #c0c0c0; text-decoration-color: #c0c0c0\">'👩 Adele'</span><span style=\"color: #c0c0c0; text-decoration-color: #c0c0c0\">, </span><span style=\"color: #c0c0c0; text-decoration-color: #c0c0c0\">'pizza'</span><span style=\"color: #c0c0c0; text-decoration-color: #c0c0c0\">: </span><span style=\"color: #c0c0c0; text-decoration-color: #c0c0c0\">'Hawaii 🍕+🍍+🥓'</span><span style=\"color: #c0c0c0; text-decoration-color: #c0c0c0\">, </span><span style=\"color: #c0c0c0; text-decoration-color: #c0c0c0\">'qty'</span><span style=\"color: #c0c0c0; text-decoration-color: #c0c0c0\">: </span><span style=\"color: #c0c0c0; text-decoration-color: #c0c0c0; font-weight: bold\">1</span><span style=\"color: #c0c0c0; text-decoration-color: #c0c0c0; font-weight: bold\">}</span>\n",
       "\n",
       "\n",
       "</pre>\n"
      ],
      "text/plain": [
       "\u001b[1;37m1:9\u001b[0m\u001b[37m: \u001b[0m\u001b[1;37m{\u001b[0m\u001b[37m'id'\u001b[0m\u001b[37m: \u001b[0m\u001b[1;37m2\u001b[0m\u001b[1;37m}\u001b[0m\u001b[37m:\u001b[0m\u001b[1;37m{\u001b[0m\u001b[37m'id'\u001b[0m\u001b[37m: \u001b[0m\u001b[1;37m2\u001b[0m\u001b[37m, \u001b[0m\u001b[37m'name'\u001b[0m\u001b[37m: \u001b[0m\u001b[37m'👩 Adele'\u001b[0m\u001b[37m, \u001b[0m\u001b[37m'pizza'\u001b[0m\u001b[37m: \u001b[0m\u001b[37m'Hawaii 🍕+🍍+🥓'\u001b[0m\u001b[37m, \u001b[0m\u001b[37m'qty'\u001b[0m\u001b[37m: \u001b[0m\u001b[1;37m1\u001b[0m\u001b[1;37m}\u001b[0m\n",
       "\n",
       "\n"
      ]
     },
     "metadata": {},
     "output_type": "display_data"
    },
    {
     "data": {
      "text/html": [
       "<pre style=\"white-space:pre;overflow-x:auto;line-height:normal;font-family:Menlo,'DejaVu Sans Mono',consolas,'Courier New',monospace\"><span style=\"color: #c0c0c0; text-decoration-color: #c0c0c0\">Checking Partition Billing </span>\n",
       "<span style=\"color: #c0c0c0; text-decoration-color: #c0c0c0\">----------</span>\n",
       "</pre>\n"
      ],
      "text/plain": [
       "\u001b[37mChecking Partition Billing \u001b[0m\n",
       "\u001b[37m----------\u001b[0m\n"
      ]
     },
     "metadata": {},
     "output_type": "display_data"
    },
    {
     "data": {
      "text/html": [
       "<pre style=\"white-space:pre;overflow-x:auto;line-height:normal;font-family:Menlo,'DejaVu Sans Mono',consolas,'Courier New',monospace\"><span style=\"color: #c0c0c0; text-decoration-color: #c0c0c0; font-weight: bold\">0:10</span><span style=\"color: #c0c0c0; text-decoration-color: #c0c0c0\">: </span><span style=\"color: #c0c0c0; text-decoration-color: #c0c0c0; font-weight: bold\">{</span><span style=\"color: #c0c0c0; text-decoration-color: #c0c0c0\">'id'</span><span style=\"color: #c0c0c0; text-decoration-color: #c0c0c0\">: </span><span style=\"color: #c0c0c0; text-decoration-color: #c0c0c0; font-weight: bold\">1</span><span style=\"color: #c0c0c0; text-decoration-color: #c0c0c0; font-weight: bold\">}</span><span style=\"color: #c0c0c0; text-decoration-color: #c0c0c0\">:</span><span style=\"color: #c0c0c0; text-decoration-color: #c0c0c0; font-weight: bold\">{</span><span style=\"color: #c0c0c0; text-decoration-color: #c0c0c0\">'id'</span><span style=\"color: #c0c0c0; text-decoration-color: #c0c0c0\">: </span><span style=\"color: #c0c0c0; text-decoration-color: #c0c0c0; font-weight: bold\">1</span><span style=\"color: #c0c0c0; text-decoration-color: #c0c0c0\">, </span><span style=\"color: #c0c0c0; text-decoration-color: #c0c0c0\">'name'</span><span style=\"color: #c0c0c0; text-decoration-color: #c0c0c0\">: </span><span style=\"color: #c0c0c0; text-decoration-color: #c0c0c0\">'👨 Ajay'</span><span style=\"color: #c0c0c0; text-decoration-color: #c0c0c0\">, </span><span style=\"color: #c0c0c0; text-decoration-color: #c0c0c0\">'pizza'</span><span style=\"color: #c0c0c0; text-decoration-color: #c0c0c0\">: </span><span style=\"color: #c0c0c0; text-decoration-color: #c0c0c0\">'Margherita 🍕'</span><span style=\"color: #c0c0c0; text-decoration-color: #c0c0c0; font-weight: bold\">}</span>\n",
       "\n",
       "\n",
       "</pre>\n"
      ],
      "text/plain": [
       "\u001b[1;37m0:10\u001b[0m\u001b[37m: \u001b[0m\u001b[1;37m{\u001b[0m\u001b[37m'id'\u001b[0m\u001b[37m: \u001b[0m\u001b[1;37m1\u001b[0m\u001b[1;37m}\u001b[0m\u001b[37m:\u001b[0m\u001b[1;37m{\u001b[0m\u001b[37m'id'\u001b[0m\u001b[37m: \u001b[0m\u001b[1;37m1\u001b[0m\u001b[37m, \u001b[0m\u001b[37m'name'\u001b[0m\u001b[37m: \u001b[0m\u001b[37m'👨 Ajay'\u001b[0m\u001b[37m, \u001b[0m\u001b[37m'pizza'\u001b[0m\u001b[37m: \u001b[0m\u001b[37m'Margherita 🍕'\u001b[0m\u001b[1;37m}\u001b[0m\n",
       "\n",
       "\n"
      ]
     },
     "metadata": {},
     "output_type": "display_data"
    }
   ],
   "source": [
    "from rich.console import Console\n",
    "\n",
    "console = Console()\n",
    "\n",
    "def display_orders(consumer:DeserializingConsumer, label:str, style:str = \"bold\", count:int = 1):\n",
    "    \"\"\"Display the orders from a consumer.\"\"\"\n",
    "    finished = False\n",
    "    local_count = 0\n",
    "    while not finished:\n",
    "        if (msg:=consumer.poll(timeout=1.0)) is None:\n",
    "            continue\n",
    "        elif msg.error():\n",
    "                raise KafkaException(msg.error())\n",
    "        else:\n",
    "            console.print(f\"Checking Partition {label} \\n\" + \"-\"*10, style=style)\n",
    "            console.print(f\"[{style}]{msg.partition()}:{msg.offset()}: {msg.key()}:{msg.value()}[/{style}]\\n\\n\")\n",
    "            local_count += 1\n",
    "            finished = local_count == count\n",
    "\n",
    "console.print(\"Run the last block from `3-produce-partitioned-topic.ipynb`.\")\n",
    "display_orders(orders_consumer_northern_store, \"Northern Store\", \"bold red\")\n",
    "display_orders(orders_consumer_southern_store, \"Southern Store\", \"bold green\")\n",
    "display_orders(billing_consumer, \"Billing\", \"white\", count=2)"
   ]
  },
  {
   "cell_type": "markdown",
   "metadata": {},
   "source": [
    "## Great Work\n",
    "\n",
    "In this notebook:\n",
    "  - We configured our three consumers to consume different topics.\n",
    "\n",
    "This is one way of limiting how we consume particular topics. In our penultimate notebook, we'll take a look at a using Aiven for Apache Flink® to filter messages based on a query.\n",
    "\n",
    "Select the [next notebook](6-transform-with-apache-flink.ipynb) or click the button below to continue.\n",
    "\n",
    "[![Button to Part 5](https://img.shields.io/badge/6-Transformations%20Using%20Aiven%20for%20Apache%20Flink-a03586?style=for-the-badge&labelColor=ec6147)](6-transform-with-apache-flink.ipynb) "
   ]
  }
 ],
 "metadata": {
  "kernelspec": {
   "display_name": "Python 3 (ipykernel)",
   "language": "python",
   "name": "python3"
  },
  "language_info": {
   "codemirror_mode": {
    "name": "ipython",
    "version": 3
   },
   "file_extension": ".py",
   "mimetype": "text/x-python",
   "name": "python",
   "nbconvert_exporter": "python",
   "pygments_lexer": "ipython3",
   "version": "3.12.2"
  }
 },
 "nbformat": 4,
 "nbformat_minor": 4
}
