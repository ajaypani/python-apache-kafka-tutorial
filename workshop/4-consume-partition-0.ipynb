{
 "cells": [
  {
   "cell_type": "markdown",
   "metadata": {},
   "source": [
    "# Consume messages from an Aiven for Apache Kafka®️ partitioned topic\n",
    "\n",
    "In this notebook you will learn how to consume messages to an Apache Kafka topic with two partitions (created with the [dedicated notebook](3-produce-partitioned-topic.ipynb))\n",
    "\n",
    "![Consume messages from an Apache Kafka Topic](../img/4%20-%20multiple%20kafka%20consumers%20one%20consumer%20group%20python.png)\n",
    "\n",
    "> [!NOTE]\n",
    ">\n",
    "> _If you haven't already created and setup your virtual environment, follow the steps from [0-setup.ipynb](0-setup.ipynb)_. \n",
    ">\n",
    "> You will need the `PizzasPartitioned` topic that you created in `3-produce-partintioned-topic.ipynb`.\n",
    "\n"
   ]
  },
  {
   "cell_type": "markdown",
   "metadata": {},
   "source": [
    "---\n",
    "\n",
    "## Create an Apache Kafka®️ Consumer\n",
    "\n",
    "The next step is to configure the Kafka Consumer. let's recall in the previous notebook. That `Francesco's` message was sent to partition `0` and `Adele's` message was in partition `1`.\n",
    "\n",
    "```python\n",
    "producer.produce(\n",
    "    \"pizzasPartitioned\",\n",
    "    key={\"id\":1},\n",
    "    value={\"id\":1, \"name\":\"👨 Francesco\", \"pizza\":\"Margherita 🍕\"},\n",
    "    partition=0\n",
    ")\n",
    "\n",
    "producer.produce(\n",
    "    \"pizzasPartitioned\",\n",
    "    key={\"id\":2},\n",
    "    value={\"id\":2, \"name\":\"👩 Adele\", \"pizza\":\"Hawaii 🍕+🍍+🥓\"},\n",
    "    partition=1\n",
    ")\n",
    "```\n",
    "\n",
    "In `2-consume.ipynb` we saw that all the topics are all loaded. We're going to create two consumers that belong to the group `pizzaaioli`. `consumer_0` will consume messages in partition `0` and `consumer_1` consumes messages in partition `1`."
   ]
  },
  {
   "cell_type": "code",
   "execution_count": 2,
   "metadata": {},
   "outputs": [],
   "source": [
    "import json\n",
    "import os\n",
    "\n",
    "from confluent_kafka import DeserializingConsumer, TopicPartition\n",
    "from dotenv import load_dotenv\n",
    "\n",
    "load_dotenv()\n",
    "\n",
    "def json_deserializer(msg, s_obj):\n",
    "    return json.loads(msg.decode('ascii'))\n",
    "\n",
    "KAFKA_SERVICE_URI = os.getenv(\"KAFKA_SERVICE_URI\")\n",
    "topic = \"pizzasPartitioned\"\n",
    "conf = {\n",
    "    'bootstrap.servers': KAFKA_SERVICE_URI,\n",
    "    'client.id': 'myclient',\n",
    "    'group.id': 'pizzaioli',\n",
    "    'security.protocol': 'SSL',\n",
    "    'ssl.ca.location': '../sslcerts/ca.pem',\n",
    "    'ssl.certificate.location': '../sslcerts/service.cert',\n",
    "    'ssl.key.location': '../sslcerts/service.key', \n",
    "    'value.deserializer': json_deserializer,\n",
    "    'key.deserializer': json_deserializer\n",
    "    }\n",
    "\n",
    "orders_consumer_northern_store = DeserializingConsumer(conf)\n",
    "orders_consumer_northern_store.assign([TopicPartition(topic, 0)])\n",
    "\n",
    "orders_consumer_southern_store = DeserializingConsumer(conf)\n",
    "orders_consumer_southern_store.assign([TopicPartition(topic, 1)])"
   ]
  },
  {
   "cell_type": "markdown",
   "metadata": {},
   "source": [
    "## Consume messages from the `pizzasPartitioned` topic\n",
    "\n",
    "Review and start the code block below. While the block is running. Use the **LAST** block in `3-produce-partitioned-topic.ipynb` to produced more partitioned samples."
   ]
  },
  {
   "cell_type": "code",
   "execution_count": 6,
   "metadata": {},
   "outputs": [
    {
     "data": {
      "text/html": [
       "<pre style=\"white-space:pre;overflow-x:auto;line-height:normal;font-family:Menlo,'DejaVu Sans Mono',consolas,'Courier New',monospace\">Run the last block from `<span style=\"color: #008080; text-decoration-color: #008080; font-weight: bold\">3</span>-produce-partitioned-topic.ipynb`.\n",
       "</pre>\n"
      ],
      "text/plain": [
       "Run the last block from `\u001b[1;36m3\u001b[0m-produce-partitioned-topic.ipynb`.\n"
      ]
     },
     "metadata": {},
     "output_type": "display_data"
    },
    {
     "data": {
      "text/html": [
       "<pre style=\"white-space:pre;overflow-x:auto;line-height:normal;font-family:Menlo,'DejaVu Sans Mono',consolas,'Courier New',monospace\"><span style=\"color: #800000; text-decoration-color: #800000; font-weight: bold\">Checking Partition Northern Store </span>\n",
       "<span style=\"color: #800000; text-decoration-color: #800000; font-weight: bold\">----------</span>\n",
       "</pre>\n"
      ],
      "text/plain": [
       "\u001b[1;31mChecking Partition Northern Store \u001b[0m\n",
       "\u001b[1;31m----------\u001b[0m\n"
      ]
     },
     "metadata": {},
     "output_type": "display_data"
    },
    {
     "data": {
      "text/html": [
       "<pre style=\"white-space:pre;overflow-x:auto;line-height:normal;font-family:Menlo,'DejaVu Sans Mono',consolas,'Courier New',monospace\"><span style=\"color: #800000; text-decoration-color: #800000; font-weight: bold\">0:6: {</span><span style=\"color: #800000; text-decoration-color: #800000; font-weight: bold\">'id'</span><span style=\"color: #800000; text-decoration-color: #800000; font-weight: bold\">: </span><span style=\"color: #800000; text-decoration-color: #800000; font-weight: bold\">1</span><span style=\"color: #800000; text-decoration-color: #800000; font-weight: bold\">}:{</span><span style=\"color: #800000; text-decoration-color: #800000; font-weight: bold\">'id'</span><span style=\"color: #800000; text-decoration-color: #800000; font-weight: bold\">: </span><span style=\"color: #800000; text-decoration-color: #800000; font-weight: bold\">1</span><span style=\"color: #800000; text-decoration-color: #800000; font-weight: bold\">, </span><span style=\"color: #800000; text-decoration-color: #800000; font-weight: bold\">'name'</span><span style=\"color: #800000; text-decoration-color: #800000; font-weight: bold\">: </span><span style=\"color: #800000; text-decoration-color: #800000; font-weight: bold\">'👨 Ajay'</span><span style=\"color: #800000; text-decoration-color: #800000; font-weight: bold\">, </span><span style=\"color: #800000; text-decoration-color: #800000; font-weight: bold\">'pizza'</span><span style=\"color: #800000; text-decoration-color: #800000; font-weight: bold\">: </span><span style=\"color: #800000; text-decoration-color: #800000; font-weight: bold\">'Margherita 🍕'</span><span style=\"color: #800000; text-decoration-color: #800000; font-weight: bold\">}</span>\n",
       "\n",
       "\n",
       "</pre>\n"
      ],
      "text/plain": [
       "\u001b[1;31m0:6\u001b[0m\u001b[1;31m: \u001b[0m\u001b[1;31m{\u001b[0m\u001b[1;31m'id'\u001b[0m\u001b[1;31m: \u001b[0m\u001b[1;31m1\u001b[0m\u001b[1;31m}\u001b[0m\u001b[1;31m:\u001b[0m\u001b[1;31m{\u001b[0m\u001b[1;31m'id'\u001b[0m\u001b[1;31m: \u001b[0m\u001b[1;31m1\u001b[0m\u001b[1;31m, \u001b[0m\u001b[1;31m'name'\u001b[0m\u001b[1;31m: \u001b[0m\u001b[1;31m'👨 Ajay'\u001b[0m\u001b[1;31m, \u001b[0m\u001b[1;31m'pizza'\u001b[0m\u001b[1;31m: \u001b[0m\u001b[1;31m'Margherita 🍕'\u001b[0m\u001b[1;31m}\u001b[0m\n",
       "\n",
       "\n"
      ]
     },
     "metadata": {},
     "output_type": "display_data"
    },
    {
     "data": {
      "text/html": [
       "<pre style=\"white-space:pre;overflow-x:auto;line-height:normal;font-family:Menlo,'DejaVu Sans Mono',consolas,'Courier New',monospace\"><span style=\"color: #008000; text-decoration-color: #008000; font-weight: bold\">Checking Partition Southern Store </span>\n",
       "<span style=\"color: #008000; text-decoration-color: #008000; font-weight: bold\">----------</span>\n",
       "</pre>\n"
      ],
      "text/plain": [
       "\u001b[1;32mChecking Partition Southern Store \u001b[0m\n",
       "\u001b[1;32m----------\u001b[0m\n"
      ]
     },
     "metadata": {},
     "output_type": "display_data"
    },
    {
     "data": {
      "text/html": [
       "<pre style=\"white-space:pre;overflow-x:auto;line-height:normal;font-family:Menlo,'DejaVu Sans Mono',consolas,'Courier New',monospace\"><span style=\"color: #008000; text-decoration-color: #008000; font-weight: bold\">1:6: {</span><span style=\"color: #008000; text-decoration-color: #008000; font-weight: bold\">'id'</span><span style=\"color: #008000; text-decoration-color: #008000; font-weight: bold\">: </span><span style=\"color: #008000; text-decoration-color: #008000; font-weight: bold\">2</span><span style=\"color: #008000; text-decoration-color: #008000; font-weight: bold\">}:{</span><span style=\"color: #008000; text-decoration-color: #008000; font-weight: bold\">'id'</span><span style=\"color: #008000; text-decoration-color: #008000; font-weight: bold\">: </span><span style=\"color: #008000; text-decoration-color: #008000; font-weight: bold\">2</span><span style=\"color: #008000; text-decoration-color: #008000; font-weight: bold\">, </span><span style=\"color: #008000; text-decoration-color: #008000; font-weight: bold\">'name'</span><span style=\"color: #008000; text-decoration-color: #008000; font-weight: bold\">: </span><span style=\"color: #008000; text-decoration-color: #008000; font-weight: bold\">'👩 Adele'</span><span style=\"color: #008000; text-decoration-color: #008000; font-weight: bold\">, </span><span style=\"color: #008000; text-decoration-color: #008000; font-weight: bold\">'pizza'</span><span style=\"color: #008000; text-decoration-color: #008000; font-weight: bold\">: </span><span style=\"color: #008000; text-decoration-color: #008000; font-weight: bold\">'Hawaii 🍕+🍍+🥓'</span><span style=\"color: #008000; text-decoration-color: #008000; font-weight: bold\">, </span><span style=\"color: #008000; text-decoration-color: #008000; font-weight: bold\">'qty'</span><span style=\"color: #008000; text-decoration-color: #008000; font-weight: bold\">: </span><span style=\"color: #008000; text-decoration-color: #008000; font-weight: bold\">1</span><span style=\"color: #008000; text-decoration-color: #008000; font-weight: bold\">}</span>\n",
       "\n",
       "\n",
       "</pre>\n"
      ],
      "text/plain": [
       "\u001b[1;32m1:6\u001b[0m\u001b[1;32m: \u001b[0m\u001b[1;32m{\u001b[0m\u001b[1;32m'id'\u001b[0m\u001b[1;32m: \u001b[0m\u001b[1;32m2\u001b[0m\u001b[1;32m}\u001b[0m\u001b[1;32m:\u001b[0m\u001b[1;32m{\u001b[0m\u001b[1;32m'id'\u001b[0m\u001b[1;32m: \u001b[0m\u001b[1;32m2\u001b[0m\u001b[1;32m, \u001b[0m\u001b[1;32m'name'\u001b[0m\u001b[1;32m: \u001b[0m\u001b[1;32m'👩 Adele'\u001b[0m\u001b[1;32m, \u001b[0m\u001b[1;32m'pizza'\u001b[0m\u001b[1;32m: \u001b[0m\u001b[1;32m'Hawaii 🍕+🍍+🥓'\u001b[0m\u001b[1;32m, \u001b[0m\u001b[1;32m'qty'\u001b[0m\u001b[1;32m: \u001b[0m\u001b[1;32m1\u001b[0m\u001b[1;32m}\u001b[0m\n",
       "\n",
       "\n"
      ]
     },
     "metadata": {},
     "output_type": "display_data"
    }
   ],
   "source": [
    "from confluent_kafka import KafkaException\n",
    "from rich.console import Console\n",
    "\n",
    "console = Console()\n",
    "def display_orders(consumer:DeserializingConsumer, label:str, style:str = \"bold\", count:int = 1):\n",
    "    \"\"\"Display the orders from a consumer.\"\"\"\n",
    "    finished = False\n",
    "    local_count = 0\n",
    "    while not finished:\n",
    "        if (msg:=consumer.poll(timeout=1.0)) is None:\n",
    "            continue\n",
    "        elif msg.error():\n",
    "                raise KafkaException(msg.error())\n",
    "        else:\n",
    "            console.print(f\"Checking Partition {label} \\n\" + \"-\"*10, style=style)\n",
    "            console.print(f\"[{style}]{msg.partition()}:{msg.offset()}: {msg.key()}:{msg.value()}[/{style}]\\n\\n\")\n",
    "            local_count += 1\n",
    "            finished = local_count == count\n",
    "\n",
    "console.print(\"Run the last block from `3-produce-partitioned-topic.ipynb`.\")\n",
    "display_orders(orders_consumer_northern_store, \"Northern Store\", \"bold red\")\n",
    "display_orders(orders_consumer_southern_store, \"Southern Store\", \"bold green\")"
   ]
  },
  {
   "cell_type": "markdown",
   "metadata": {},
   "source": [
    "### Excellent Work! 🥳\n",
    "\n",
    "In this notebook:\n",
    "\n",
    " - We created multiple consumers.\n",
    " - We consumed our messages from the Northern and Southern Store Partitions\n",
    "\n",
    "In the next notebook we'll expand on this concept by creating multiple consumer groups so that we can adjust how partitions are consumed.\n",
    "\n",
    "Select the [next notebook](5-new-consumer-group.ipynb) or click the button below to continue.\n",
    "\n",
    "[![Button to Part 5](https://img.shields.io/badge/5-Working%20Multiple%20Consumer%20Groups-a03586?style=for-the-badge&labelColor=ec6147)](5-new-consumer-group.ipynb)"
   ]
  }
 ],
 "metadata": {
  "kernelspec": {
   "display_name": "Python 3 (ipykernel)",
   "language": "python",
   "name": "python3"
  },
  "language_info": {
   "codemirror_mode": {
    "name": "ipython",
    "version": 3
   },
   "file_extension": ".py",
   "mimetype": "text/x-python",
   "name": "python",
   "nbconvert_exporter": "python",
   "pygments_lexer": "ipython3",
   "version": "3.12.2"
  }
 },
 "nbformat": 4,
 "nbformat_minor": 4
}
